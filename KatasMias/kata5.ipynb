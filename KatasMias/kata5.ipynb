{
 "cells": [
  {
   "cell_type": "code",
   "execution_count": 7,
   "metadata": {},
   "outputs": [
    {
     "name": "stdout",
     "output_type": "stream",
     "text": [
      "628949330\n",
      "390577533.93\n"
     ]
    }
   ],
   "source": [
    "tierra=149597870\n",
    "jupiter=778547200\n",
    "distancia=jupiter-tierra\n",
    "print(distancia)\n",
    "distanciami=distancia*0.621\n",
    "print(distanciami)\n"
   ]
  },
  {
   "cell_type": "code",
   "execution_count": 8,
   "metadata": {},
   "outputs": [
    {
     "name": "stdout",
     "output_type": "stream",
     "text": [
      "50300000\n",
      "31236300.0\n"
     ]
    }
   ],
   "source": [
    "planetaa=input('Distancia del primer planeta')\n",
    "planetab=input('Distancia del segundo planeta')\n",
    "planetaa=int(planetaa)\n",
    "planetab=int(planetab)\n",
    "distanciaa=planetab-planetaa\n",
    "print(distanciaa)\n",
    "distanciab=distanciaa*0.621\n",
    "print(abs(distanciab))\n"
   ]
  }
 ],
 "metadata": {
  "interpreter": {
   "hash": "5e3f9e2e9f5c4ee872eaae82002fbae6db16182696fc09488426a51293de57a3"
  },
  "kernelspec": {
   "display_name": "Python 3.10.1 64-bit",
   "language": "python",
   "name": "python3"
  },
  "language_info": {
   "codemirror_mode": {
    "name": "ipython",
    "version": 3
   },
   "file_extension": ".py",
   "mimetype": "text/x-python",
   "name": "python",
   "nbconvert_exporter": "python",
   "pygments_lexer": "ipython3",
   "version": "3.10.1"
  },
  "orig_nbformat": 4
 },
 "nbformat": 4,
 "nbformat_minor": 2
}
