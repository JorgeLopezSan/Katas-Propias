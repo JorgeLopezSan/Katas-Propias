{
 "cells": [
  {
   "cell_type": "code",
   "execution_count": 5,
   "metadata": {},
   "outputs": [
    {
     "name": "stdout",
     "output_type": "stream",
     "text": [
      "No hay peligro\n"
     ]
    }
   ],
   "source": [
    "ast=49\n",
    "if ast>25:\n",
    "  print('PELIGRO ASTEROIDE RAPIDO')\n",
    "else:\n",
    "  print('No hay peligro')"
   ]
  },
  {
   "cell_type": "code",
   "execution_count": 9,
   "metadata": {},
   "outputs": [
    {
     "name": "stdout",
     "output_type": "stream",
     "text": [
      "Continua con tu dia\n"
     ]
    }
   ],
   "source": [
    "ast=19\n",
    "if ast>=20:\n",
    "  print('Voltea al cielo hay un asteroide')\n",
    "else:\n",
    "  print('Continua con tu dia')"
   ]
  },
  {
   "cell_type": "code",
   "execution_count": 13,
   "metadata": {},
   "outputs": [
    {
     "name": "stdout",
     "output_type": "stream",
     "text": [
      "Voltea a ver la luz del cielo\n"
     ]
    }
   ],
   "source": [
    "ast=40\n",
    "vel=25\n",
    "if ast>25 and vel>25:\n",
    " print('Este asteroide causara mucho daño')\n",
    "elif vel>=20:\n",
    "    print('Voltea a ver la luz del cielo')\n",
    "elif ast<25:\n",
    " print('Este asteroide se desintegrara')\n",
    "else: \n",
    "    print('No hay asteroide peligoroso')\n",
    "\n"
   ]
  }
 ],
 "metadata": {
  "interpreter": {
   "hash": "5e3f9e2e9f5c4ee872eaae82002fbae6db16182696fc09488426a51293de57a3"
  },
  "kernelspec": {
   "display_name": "Python 3.10.2 64-bit",
   "language": "python",
   "name": "python3"
  },
  "language_info": {
   "codemirror_mode": {
    "name": "ipython",
    "version": 3
   },
   "file_extension": ".py",
   "mimetype": "text/x-python",
   "name": "python",
   "nbconvert_exporter": "python",
   "pygments_lexer": "ipython3",
   "version": "3.10.1"
  },
  "orig_nbformat": 4
 },
 "nbformat": 4,
 "nbformat_minor": 2
}
