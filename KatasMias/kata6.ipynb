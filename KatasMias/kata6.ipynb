{
 "cells": [
  {
   "cell_type": "code",
   "execution_count": 8,
   "metadata": {},
   "outputs": [
    {
     "name": "stdout",
     "output_type": "stream",
     "text": [
      "mercury\n",
      "venus\n",
      "earth\n",
      "mars\n",
      "jupiter\n",
      "saturn\n",
      "uranus\n",
      "neptune\n",
      "We have 8 planets\n",
      "Pluto is the last\n"
     ]
    }
   ],
   "source": [
    "planets=['mercury','venus','earth','mars','jupiter','saturn','uranus','neptune']\n",
    "for i in range(0,8,1):\n",
    "    print(planets[i])\n",
    "  \n",
    "print('We have', len(planets),'planets')\n",
    "planets.append('Pluto')\n",
    "print(planets[-1], 'is the last')"
   ]
  },
  {
   "cell_type": "code",
   "execution_count": 11,
   "metadata": {},
   "outputs": [
    {
     "name": "stdout",
     "output_type": "stream",
     "text": [
      "The planets closer than Mercury\n",
      "[]\n",
      "The planets further than Mercury\n",
      "['Venus', 'Earth', 'Mars', 'Jupiter', 'Saturn', 'Neptune']\n"
     ]
    }
   ],
   "source": [
    "planets = ['Mercury', 'Venus', 'Earth', 'Mars', 'Jupiter', 'Saturn', 'Neptune']\n",
    "usuario=input('Enter the name of a planet starting with a capital letter')\n",
    "indexplaneta=planets.index(usuario)\n",
    "print('The planets closer than ' +usuario)\n",
    "print(planets[0:indexplaneta])\n",
    "print('The planets further than ' +usuario)\n",
    "print(planets[indexplaneta+1:])"
   ]
  }
 ],
 "metadata": {
  "interpreter": {
   "hash": "5e3f9e2e9f5c4ee872eaae82002fbae6db16182696fc09488426a51293de57a3"
  },
  "kernelspec": {
   "display_name": "Python 3.10.1 64-bit",
   "language": "python",
   "name": "python3"
  },
  "language_info": {
   "codemirror_mode": {
    "name": "ipython",
    "version": 3
   },
   "file_extension": ".py",
   "mimetype": "text/x-python",
   "name": "python",
   "nbconvert_exporter": "python",
   "pygments_lexer": "ipython3",
   "version": "3.10.1"
  },
  "orig_nbformat": 4
 },
 "nbformat": 4,
 "nbformat_minor": 2
}
