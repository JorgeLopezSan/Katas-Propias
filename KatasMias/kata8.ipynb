{
 "cells": [
  {
   "cell_type": "code",
   "execution_count": 5,
   "metadata": {},
   "outputs": [
    {
     "name": "stdout",
     "output_type": "stream",
     "text": [
      "Mars has 2 moons\n",
      "Mars has a polar circumference of 6752 \n"
     ]
    }
   ],
   "source": [
    "diccionario={\n",
    "    'name':'Mars',\n",
    "    'moons' : 2\n",
    "}\n",
    "print(f'{diccionario[\"name\"]} has {diccionario[\"moons\"]} moons')\n",
    "diccionario['circunferencia']={\n",
    "   'polar': 6752,\n",
    "'equatorial': 6792\n",
    "}\n",
    "print(f'{diccionario[\"name\"]} has a polar circumference of {diccionario[\"circunferencia\"][\"polar\"]} ')"
   ]
  },
  {
   "cell_type": "code",
   "execution_count": 8,
   "metadata": {},
   "outputs": [
    {
     "name": "stdout",
     "output_type": "stream",
     "text": [
      "214\n",
      "17.833333333333332\n"
     ]
    }
   ],
   "source": [
    "lunas=0\n",
    "planet_moons = {\n",
    "    'mercury': 0,\n",
    "    'venus': 0,\n",
    "    'earth': 1,\n",
    "    'mars': 2,\n",
    "    'jupiter': 79,\n",
    "    'saturn': 82,\n",
    "    'uranus': 27,\n",
    "    'neptune': 14,\n",
    "    'pluto': 5,\n",
    "    'haumea': 2,\n",
    "    'makemake': 1,\n",
    "    'eris': 1\n",
    "}\n",
    "moons=planet_moons.values()\n",
    "planets = len(planet_moons.keys())\n",
    "\n",
    "for i in moons:\n",
    "    lunas=lunas+i\n",
    "\n",
    "promedio=lunas/12\n",
    "print (lunas)\n",
    "print(promedio)"
   ]
  }
 ],
 "metadata": {
  "interpreter": {
   "hash": "5e3f9e2e9f5c4ee872eaae82002fbae6db16182696fc09488426a51293de57a3"
  },
  "kernelspec": {
   "display_name": "Python 3.10.1 64-bit",
   "language": "python",
   "name": "python3"
  },
  "language_info": {
   "codemirror_mode": {
    "name": "ipython",
    "version": 3
   },
   "file_extension": ".py",
   "mimetype": "text/x-python",
   "name": "python",
   "nbconvert_exporter": "python",
   "pygments_lexer": "ipython3",
   "version": "3.10.1"
  },
  "orig_nbformat": 4
 },
 "nbformat": 4,
 "nbformat_minor": 2
}
